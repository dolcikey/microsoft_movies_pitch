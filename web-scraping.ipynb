{
 "cells": [
  {
   "cell_type": "code",
   "execution_count": 70,
   "metadata": {},
   "outputs": [],
   "source": [
    "import requests\n",
    "import sys\n",
    "import pandas as pd\n",
    "import numpy as np\n",
    "import time\n",
    "import re\n",
    "# time.sleep(5)\n",
    "# page = requests.get('https://www.boxofficemojo.com/release/rl1182631425/?ref_=bo_yld_table_1')\n",
    "# page_list = requests.get('https://www.boxofficemojo.com/year/2020/?grossesOption=calendarGrosses')\n",
    "from bs4 import BeautifulSoup\n",
    "# soup = BeautifulSoup(page.content, 'html.parser')\n",
    "# print(soup.prettify())\n",
    "# page = requests.get('https://www.boxofficemojo.com/release/rl2960360961/?ref_=bo_yld_table_16')\n",
    "# page = requests.get('https://www.boxofficemojo.com/release/rl101418497/?ref_=bo_yld_table_235')\n",
    "time.sleep(1)\n",
    "# soup = BeautifulSoup(page.content, 'html.parser')    "
   ]
  },
  {
   "cell_type": "code",
   "execution_count": 71,
   "metadata": {},
   "outputs": [],
   "source": [
    "# returns an array of URLs of web page to scrape from \n",
    "def create_five_years_urls():\n",
    "    url_list = []\n",
    "    years = list(range(2016, 2021))\n",
    "    for year in years:\n",
    "        url_list.append(f'https://www.boxofficemojo.com/year/{year}/?grossesOption=calendarGrosses')\n",
    "    return url_list"
   ]
  },
  {
   "cell_type": "code",
   "execution_count": 72,
   "metadata": {},
   "outputs": [],
   "source": [
    "created_list_movies_urls = create_five_years_urls()"
   ]
  },
  {
   "cell_type": "code",
   "execution_count": 73,
   "metadata": {},
   "outputs": [],
   "source": [
    "# returns the title of the single movie from single movie url in string form\n",
    "def find_movie_title(page):\n",
    "    # page = requests.get('https://www.boxofficemojo.com/release/rl2960360961/?ref_=bo_yld_table_16')\n",
    "    # time.sleep(1)\n",
    "    soup = BeautifulSoup(page.content, 'html.parser')    \n",
    "    # print(soup.prettify())\n",
    "    title = soup.find('h1', class_=\"a-size-extra-large\")\n",
    "    return title.string"
   ]
  },
  {
   "cell_type": "code",
   "execution_count": 74,
   "metadata": {},
   "outputs": [
    {
     "data": {
      "text/plain": [
       "'Killing Sarai'"
      ]
     },
     "execution_count": 74,
     "metadata": {},
     "output_type": "execute_result"
    }
   ],
   "source": [
    "find_movie_title(page)"
   ]
  },
  {
   "cell_type": "code",
   "execution_count": 75,
   "metadata": {},
   "outputs": [],
   "source": [
    "# returns release date of the single movie in string\n",
    "def find_release_date(page):\n",
    "    soup = BeautifulSoup(page.content, 'html.parser') \n",
    "    release_date = soup.find_all('a', class_='a-link-normal')\n",
    "    date = ''\n",
    "    for item in release_date:\n",
    "        if item['href'][-8:] == 'bo_rl_rl':\n",
    "            # print('here')\n",
    "            date = item.text\n",
    "    \n",
    "    return date"
   ]
  },
  {
   "cell_type": "code",
   "execution_count": 76,
   "metadata": {},
   "outputs": [
    {
     "data": {
      "text/plain": [
       "'Jan 3, 2020'"
      ]
     },
     "execution_count": 76,
     "metadata": {},
     "output_type": "execute_result"
    }
   ],
   "source": [
    "find_release_date(page)"
   ]
  },
  {
   "cell_type": "code",
   "execution_count": 77,
   "metadata": {},
   "outputs": [],
   "source": [
    "# returns budget cost or NaN of a movie if no budget cost is listed\n",
    "def find_budget(page):\n",
    "    soup = BeautifulSoup(page.content, 'html.parser') \n",
    "    budget = str(soup.find_all('div', class_='a-section a-spacing-none'))\n",
    "    # print(budget)\n",
    "    re_budget = re.findall(r\"(?<=Budget</span><span><span class=\\\"money\\\">).*?(?=</span>)\", budget)\n",
    "    if re_budget:\n",
    "        return re_budget[0]\n",
    "    # print(budget)\n",
    "    return float('NaN')\n"
   ]
  },
  {
   "cell_type": "code",
   "execution_count": 78,
   "metadata": {},
   "outputs": [
    {
     "data": {
      "text/plain": [
       "nan"
      ]
     },
     "execution_count": 78,
     "metadata": {},
     "output_type": "execute_result"
    }
   ],
   "source": [
    "find_budget(page)"
   ]
  },
  {
   "cell_type": "code",
   "execution_count": 79,
   "metadata": {},
   "outputs": [],
   "source": [
    "# returns an array of genres of single movie\n",
    "def find_genre(page):\n",
    "    soup = BeautifulSoup(page.content, 'html.parser') \n",
    "    span_genre = str(soup.find_all('span')).replace('\\n', '')\n",
    "    span_genre = re.findall(r\"(?<=<span>Genres<\\/span>, <span>).*?(?=</span>)\", span_genre)\n",
    "    return span_genre[0].split()"
   ]
  },
  {
   "cell_type": "code",
   "execution_count": 80,
   "metadata": {},
   "outputs": [
    {
     "data": {
      "text/plain": [
       "['Romance', 'Thriller']"
      ]
     },
     "execution_count": 80,
     "metadata": {},
     "output_type": "execute_result"
    }
   ],
   "source": [
    "find_genre(page)"
   ]
  },
  {
   "cell_type": "code",
   "execution_count": 81,
   "metadata": {},
   "outputs": [],
   "source": [
    "# returns gross value (domestic and world wide) in dict with two key-values\n",
    "def find_all_gross(page):\n",
    "    output = []\n",
    "    soup = BeautifulSoup(page.content, 'html.parser') \n",
    "    all_money = soup.select('.a-link-normal > .money')\n",
    "    if (len(all_money) == 2):\n",
    "        international = int(all_money[0].text.replace('$', '').replace(',', ''))\n",
    "        worldwide = int(all_money[1].text.replace('$', '').replace(',', ''))\n",
    "        domestic = worldwide - international\n",
    "        return {'domestic_gross': domestic, 'worldwide_gross': worldwide}\n",
    "    if (len(all_money) < 2):\n",
    "        worldwide = int(all_money[0].text.replace('$', '').replace(',', ''))\n",
    "        return {'domestic_gross': worldwide, 'worldwide_gross': worldwide}\n",
    "    else:\n",
    "        return {'domestic_gross': float('NaN'), 'world_gross': float('NaN')}"
   ]
  },
  {
   "cell_type": "code",
   "execution_count": 82,
   "metadata": {},
   "outputs": [
    {
     "data": {
      "text/plain": [
       "{'domestic_gross': 425332, 'worldwide_gross': 425332}"
      ]
     },
     "execution_count": 82,
     "metadata": {},
     "output_type": "execute_result"
    }
   ],
   "source": [
    "find_all_gross(page)"
   ]
  },
  {
   "cell_type": "code",
   "execution_count": 83,
   "metadata": {},
   "outputs": [],
   "source": [
    "# returns MPAA rating in string if not found, return nan\n",
    "def find_mpaa(page):\n",
    "    soup = BeautifulSoup(page.content, 'html.parser') \n",
    "    # print(soup)\n",
    "    mpaa_rating = str(soup.find_all('div', class_='a-section a-spacing-none'))\n",
    "    mpaa_rating = re.findall(r\"(?<=<span>MPAA</span><span>).*?(?=</span>)\", mpaa_rating)\n",
    "    # print(mpaa_rating)\n",
    "    if mpaa_rating:\n",
    "        return mpaa_rating[0]\n",
    "    return float('nan')"
   ]
  },
  {
   "cell_type": "code",
   "execution_count": 84,
   "metadata": {},
   "outputs": [
    {
     "data": {
      "text/plain": [
       "'R'"
      ]
     },
     "execution_count": 84,
     "metadata": {},
     "output_type": "execute_result"
    }
   ],
   "source": [
    "find_mpaa(page)"
   ]
  },
  {
   "cell_type": "code",
   "execution_count": null,
   "metadata": {},
   "outputs": [],
   "source": []
  },
  {
   "cell_type": "code",
   "execution_count": 85,
   "metadata": {},
   "outputs": [],
   "source": [
    "# create a function that will return a dictionary of a single movie with keys as 'title', 'release_date', \n",
    "# 'genres', 'mpaa', 'budget_cost', 'total_gross'\n",
    "def create_single_movie_dict(single_movie_url):\n",
    "    new_movie = {}\n",
    "    # print(single_movie_url)\n",
    "    time.sleep(.5)\n",
    "\n",
    "    page = requests.get(single_movie_url)\n",
    "    # print('here', page.content)\n",
    "    soup = BeautifulSoup(page.content, 'html.parser')    \n",
    "    # print(soup.prettify())\n",
    "    title = find_movie_title(page)\n",
    "    # print(title)\n",
    "    release_date = find_release_date(page)\n",
    "    # print(release_date)\n",
    "    genres = find_genre(page)\n",
    "    # print(genres)\n",
    "    mpaa = find_mpaa(page)\n",
    "    # print(mpaa)\n",
    "    budget_cost = find_budget(page)\n",
    "    # print(budget_cost)\n",
    "    all_gross = find_all_gross(page)\n",
    "    # print(all_gross)\n",
    "    # assign into dict\n",
    "    if title not in  new_movie:\n",
    "        new_movie['title'] = title\n",
    "        # print(title)\n",
    "        new_movie['release_date'] = release_date\n",
    "        new_movie['genres'] = genres\n",
    "        new_movie['mpaa'] = mpaa\n",
    "        new_movie['budget_cost'] = budget_cost\n",
    "        new_movie['total_gross'] = all_gross\n",
    "    return new_movie"
   ]
  },
  {
   "cell_type": "code",
   "execution_count": 86,
   "metadata": {},
   "outputs": [
    {
     "data": {
      "text/plain": [
       "{'title': 'Moondance',\n",
       " 'release_date': 'Mar 13, 2020',\n",
       " 'genres': ['Musical'],\n",
       " 'mpaa': nan,\n",
       " 'budget_cost': nan,\n",
       " 'total_gross': {'domestic_gross': 2371, 'worldwide_gross': 2371}}"
      ]
     },
     "execution_count": 86,
     "metadata": {},
     "output_type": "execute_result"
    }
   ],
   "source": [
    "create_single_movie_dict('https://www.boxofficemojo.com/release/rl2747040257/weekend/')"
   ]
  },
  {
   "cell_type": "code",
   "execution_count": 87,
   "metadata": {},
   "outputs": [],
   "source": [
    "# takes in list of yearly movie urls and returns all single movie hrefs in a new list\n",
    "def get_href_movie(urls):\n",
    "    title_movies = []\n",
    "    for link in urls:\n",
    "        \n",
    "        time.sleep(.5)\n",
    "        page = requests.get(link)\n",
    "        soup = BeautifulSoup(page.content, 'html.parser')\n",
    "        # print(soup.prettify())\n",
    "        tb = soup.find_all('td', class_='a-text-left mojo-field-type-release mojo-cell-wide')\n",
    "        # print(tb)\n",
    "        for movie in tb:\n",
    "            # print(movie.find_all('a')[0]['href'])\n",
    "            end_url = movie.find_all('a')[0]['href']\n",
    "            single_movie_url = f\"https://www.boxofficemojo.com{end_url}\"\n",
    "        \n",
    "            title_movies.append(single_movie_url)\n",
    "    return title_movies"
   ]
  },
  {
   "cell_type": "code",
   "execution_count": null,
   "metadata": {},
   "outputs": [],
   "source": [
    "five_year_movies_hrefs = get_href_movie(created_list_movies_urls)\n",
    "five_year_movies_hrefs"
   ]
  },
  {
   "cell_type": "code",
   "execution_count": null,
   "metadata": {},
   "outputs": [],
   "source": [
    "# create function that will iterate over all hrefs\n",
    "# and that will return a single movie dictionary with title, release date, genre, MPAA rating, budget cost, gross\n",
    "# input: list of single movie url\n",
    "# output: dict of single movie\n",
    "\n",
    "def create_all_movies_list(single_movie_urls):\n",
    "    movies = []\n",
    "    for single_movie in single_movie_urls:\n",
    "        time.sleep(.5)\n",
    "        \n",
    "        movies.append(create_single_movie_dict(single_movie))\n",
    "    return movies"
   ]
  },
  {
   "cell_type": "code",
   "execution_count": null,
   "metadata": {},
   "outputs": [],
   "source": [
    "create_all_movies_list(['https://www.boxofficemojo.com/release/rl2238875137/?ref_=bo_yld_table_8', 'https://www.boxofficemojo.com/release/rl1145865729/?ref_=bo_yld_table_9', 'https://www.boxofficemojo.com/release/rl2691925505/?ref_=bo_yld_table_10'])"
   ]
  },
  {
   "cell_type": "code",
   "execution_count": null,
   "metadata": {},
   "outputs": [],
   "source": []
  }
 ],
 "metadata": {
  "kernelspec": {
   "display_name": "Python 3",
   "language": "python",
   "name": "python3"
  },
  "language_info": {
   "codemirror_mode": {
    "name": "ipython",
    "version": 3
   },
   "file_extension": ".py",
   "mimetype": "text/x-python",
   "name": "python",
   "nbconvert_exporter": "python",
   "pygments_lexer": "ipython3",
   "version": "3.7.6"
  }
 },
 "nbformat": 4,
 "nbformat_minor": 4
}
