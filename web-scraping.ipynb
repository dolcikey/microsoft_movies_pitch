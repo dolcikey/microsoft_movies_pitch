{
 "cells": [
  {
   "cell_type": "code",
   "execution_count": 287,
   "metadata": {},
   "outputs": [],
   "source": [
    "import requests\n",
    "import sys\n",
    "import pandas as pd\n",
    "import numpy as np\n",
    "import time\n",
    "import re\n",
    "# time.sleep(5)\n",
    "# page = requests.get('https://www.boxofficemojo.com/release/rl1182631425/?ref_=bo_yld_table_1')\n",
    "# page_list = requests.get('https://www.boxofficemojo.com/year/2020/?grossesOption=calendarGrosses')\n",
    "from bs4 import BeautifulSoup\n",
    "# soup = BeautifulSoup(page.content, 'html.parser')\n",
    "# print(soup.prettify())\n",
    "# page = requests.get('https://www.boxofficemojo.com/release/rl2960360961/?ref_=bo_yld_table_16')\n",
    "page = requests.get('https://www.boxofficemojo.com/release/rl101418497/?ref_=bo_yld_table_235')\n",
    "time.sleep(1)\n",
    "# soup = BeautifulSoup(page.content, 'html.parser')    "
   ]
  },
  {
   "cell_type": "code",
   "execution_count": 288,
   "metadata": {},
   "outputs": [],
   "source": [
    "# returns the title of the single movie from single movie url in string form\n",
    "def find_movie_title(page):\n",
    "    # page = requests.get('https://www.boxofficemojo.com/release/rl2960360961/?ref_=bo_yld_table_16')\n",
    "    # time.sleep(1)\n",
    "    soup = BeautifulSoup(page.content, 'html.parser')    \n",
    "    # print(soup.prettify())\n",
    "    title = soup.find('h1', class_=\"a-size-extra-large\")\n",
    "    return title.string"
   ]
  },
  {
   "cell_type": "code",
   "execution_count": 289,
   "metadata": {},
   "outputs": [
    {
     "data": {
      "text/plain": [
       "'Killing Sarai'"
      ]
     },
     "execution_count": 289,
     "metadata": {},
     "output_type": "execute_result"
    }
   ],
   "source": [
    "find_movie_title(page)"
   ]
  },
  {
   "cell_type": "code",
   "execution_count": 290,
   "metadata": {},
   "outputs": [],
   "source": [
    "# returns release date of the single movie in string\n",
    "def find_release_date(page):\n",
    "    soup = BeautifulSoup(page.content, 'html.parser') \n",
    "    release_date = soup.find_all('a', class_='a-link-normal')\n",
    "    date = ''\n",
    "    for item in release_date:\n",
    "        if item['href'][-8:] == 'bo_rl_rl':\n",
    "            # print('here')\n",
    "            date = item.text\n",
    "    \n",
    "    return date"
   ]
  },
  {
   "cell_type": "code",
   "execution_count": 291,
   "metadata": {},
   "outputs": [
    {
     "data": {
      "text/plain": [
       "'Jan 3, 2020'"
      ]
     },
     "execution_count": 291,
     "metadata": {},
     "output_type": "execute_result"
    }
   ],
   "source": [
    "find_release_date(page)"
   ]
  },
  {
   "cell_type": "code",
   "execution_count": 292,
   "metadata": {},
   "outputs": [],
   "source": [
    "# returns budget cost or NaN of a movie if no budget cost is listed\n",
    "def find_budget(page):\n",
    "    soup = BeautifulSoup(page.content, 'html.parser') \n",
    "    budget = str(soup.find_all('div', class_='a-section a-spacing-none'))\n",
    "    # print(budget)\n",
    "    re_budget = re.findall(r\"(?<=Budget</span><span><span class=\\\"money\\\">).*?(?=</span>)\", budget)\n",
    "    if re_budget:\n",
    "        return re_budget[0]\n",
    "    # print(budget)\n",
    "    return float('NaN')\n"
   ]
  },
  {
   "cell_type": "code",
   "execution_count": 293,
   "metadata": {},
   "outputs": [
    {
     "data": {
      "text/plain": [
       "nan"
      ]
     },
     "execution_count": 293,
     "metadata": {},
     "output_type": "execute_result"
    }
   ],
   "source": [
    "find_budget(page)"
   ]
  },
  {
   "cell_type": "code",
   "execution_count": 294,
   "metadata": {},
   "outputs": [],
   "source": [
    "# returns an array of genres of single movie\n",
    "def find_genre(page):\n",
    "    soup = BeautifulSoup(page.content, 'html.parser') \n",
    "    span_genre = str(soup.find_all('span')).replace('\\n', '')\n",
    "    span_genre = re.findall(r\"(?<=<span>Genres<\\/span>, <span>).*?(?=</span>)\", span_genre)\n",
    "    return span_genre[0].split()"
   ]
  },
  {
   "cell_type": "code",
   "execution_count": 295,
   "metadata": {},
   "outputs": [
    {
     "data": {
      "text/plain": [
       "['Romance', 'Thriller']"
      ]
     },
     "execution_count": 295,
     "metadata": {},
     "output_type": "execute_result"
    }
   ],
   "source": [
    "find_genre(page)"
   ]
  },
  {
   "cell_type": "code",
   "execution_count": 296,
   "metadata": {},
   "outputs": [],
   "source": [
    "# returns gross value (domestic and world wide) in dict with two key-values\n",
    "def find_all_gross(page):\n",
    "    output = []\n",
    "    soup = BeautifulSoup(page.content, 'html.parser') \n",
    "    all_money = soup.select('.a-link-normal > .money')\n",
    "    if (len(all_money) == 2):\n",
    "        international = int(all_money[0].text.replace('$', '').replace(',', ''))\n",
    "        worldwide = int(all_money[1].text.replace('$', '').replace(',', ''))\n",
    "        domestic = worldwide - international\n",
    "        return {'domestic_gross': domestic, 'worldwide_gross': worldwide}\n",
    "    if (len(all_money) < 2):\n",
    "        worldwide = int(all_money[0].text.replace('$', '').replace(',', ''))\n",
    "        return {'domestic_gross': worldwide, 'worldwide_gross': worldwide}\n",
    "    else:\n",
    "        return {'domestic_gross': float('NaN'), 'world_gross': float('NaN')}"
   ]
  },
  {
   "cell_type": "code",
   "execution_count": 297,
   "metadata": {},
   "outputs": [
    {
     "data": {
      "text/plain": [
       "{'domestic_gross': 425332, 'worldwide_gross': 425332}"
      ]
     },
     "execution_count": 297,
     "metadata": {},
     "output_type": "execute_result"
    }
   ],
   "source": [
    "find_all_gross(page)"
   ]
  },
  {
   "cell_type": "code",
   "execution_count": 300,
   "metadata": {},
   "outputs": [],
   "source": [
    "# returns MPAA rating in string if not found, return nan\n",
    "def find_mpaa(page):\n",
    "    soup = BeautifulSoup(page.content, 'html.parser') \n",
    "    # print(soup)\n",
    "    mpaa_rating = str(soup.find_all('div', class_='a-section a-spacing-none'))\n",
    "    mpaa_rating = re.findall(r\"(?<=<span>MPAA</span><span>).*?(?=</span>)\", mpaa_rating)\n",
    "    # print(mpaa_rating)\n",
    "    if mpaa_rating:\n",
    "        return mpaa_rating[0]\n",
    "    return float('nan')"
   ]
  },
  {
   "cell_type": "code",
   "execution_count": 301,
   "metadata": {},
   "outputs": [
    {
     "data": {
      "text/plain": [
       "'R'"
      ]
     },
     "execution_count": 301,
     "metadata": {},
     "output_type": "execute_result"
    }
   ],
   "source": [
    "find_mpaa(page)"
   ]
  },
  {
   "cell_type": "code",
   "execution_count": null,
   "metadata": {},
   "outputs": [],
   "source": []
  },
  {
   "cell_type": "code",
   "execution_count": null,
   "metadata": {},
   "outputs": [],
   "source": []
  }
 ],
 "metadata": {
  "kernelspec": {
   "display_name": "Python 3",
   "language": "python",
   "name": "python3"
  },
  "language_info": {
   "codemirror_mode": {
    "name": "ipython",
    "version": 3
   },
   "file_extension": ".py",
   "mimetype": "text/x-python",
   "name": "python",
   "nbconvert_exporter": "python",
   "pygments_lexer": "ipython3",
   "version": "3.7.6"
  }
 },
 "nbformat": 4,
 "nbformat_minor": 4
}
