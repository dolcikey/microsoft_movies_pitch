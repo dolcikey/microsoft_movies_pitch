{
 "cells": [
  {
   "cell_type": "code",
   "execution_count": 14,
   "metadata": {},
   "outputs": [],
   "source": [
    "import requests\n",
    "import sys\n",
    "import pandas as pd\n",
    "import numpy as np\n",
    "import time\n",
    "import re\n",
    "# time.sleep(5)\n",
    "# page = requests.get('https://www.boxofficemojo.com/release/rl1182631425/?ref_=bo_yld_table_1')\n",
    "# page_list = requests.get('https://www.boxofficemojo.com/year/2020/?grossesOption=calendarGrosses')\n",
    "from bs4 import BeautifulSoup\n",
    "# soup = BeautifulSoup(page.content, 'html.parser')\n",
    "# print(soup.prettify())\n",
    "page = requests.get('https://www.boxofficemojo.com/release/rl2960360961/?ref_=bo_yld_table_16')\n",
    "time.sleep(1)\n",
    "soup = BeautifulSoup(page.content, 'html.parser')    "
   ]
  },
  {
   "cell_type": "code",
   "execution_count": 15,
   "metadata": {},
   "outputs": [],
   "source": [
    "# returns the title of the single movie from single movie url in string form\n",
    "def find_movie_title(page):\n",
    "    # page = requests.get('https://www.boxofficemojo.com/release/rl2960360961/?ref_=bo_yld_table_16')\n",
    "    # time.sleep(1)\n",
    "    # soup = BeautifulSoup(page.content, 'html.parser')    \n",
    "    # print(soup.prettify())\n",
    "    title = soup.find('h1', class_=\"a-size-extra-large\")\n",
    "    return title.string"
   ]
  },
  {
   "cell_type": "code",
   "execution_count": 16,
   "metadata": {},
   "outputs": [
    {
     "data": {
      "text/plain": [
       "'Star Trek Beyond'"
      ]
     },
     "execution_count": 16,
     "metadata": {},
     "output_type": "execute_result"
    }
   ],
   "source": [
    "find_movie_title()"
   ]
  },
  {
   "cell_type": "code",
   "execution_count": null,
   "metadata": {},
   "outputs": [],
   "source": []
  }
 ],
 "metadata": {
  "kernelspec": {
   "display_name": "Python 3",
   "language": "python",
   "name": "python3"
  },
  "language_info": {
   "codemirror_mode": {
    "name": "ipython",
    "version": 3
   },
   "file_extension": ".py",
   "mimetype": "text/x-python",
   "name": "python",
   "nbconvert_exporter": "python",
   "pygments_lexer": "ipython3",
   "version": "3.7.6"
  }
 },
 "nbformat": 4,
 "nbformat_minor": 4
}
